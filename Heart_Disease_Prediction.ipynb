{
  "cells": [
    {
      "cell_type": "markdown",
      "id": "f8892b92",
      "metadata": {
        "id": "f8892b92"
      },
      "source": [
        "### **Importing Libraries**"
      ]
    },
    {
      "cell_type": "code",
      "execution_count": null,
      "id": "4a7dfec8",
      "metadata": {
        "id": "4a7dfec8"
      },
      "outputs": [],
      "source": [
        "import seaborn as sns\n",
        "import pandas as pd\n",
        "import numpy as np\n",
        "import warnings\n",
        "warnings.simplefilter(\"ignore\")\n",
        "import plotly.express as px\n",
        "import matplotlib.pyplot as plt\n",
        "from sklearn.metrics import accuracy_score\n",
        "from sklearn.metrics import confusion_matrix\n",
        "from sklearn.metrics import classification_report\n",
        "from sklearn.ensemble import RandomForestClassifier\n",
        "from sklearn.model_selection import train_test_split"
      ]
    },
    {
      "cell_type": "code",
      "execution_count": null,
      "id": "b42b9d2d",
      "metadata": {
        "id": "b42b9d2d"
      },
      "outputs": [],
      "source": [
        "data = pd.read_csv('/content/heart.csv')"
      ]
    },
    {
      "cell_type": "code",
      "execution_count": null,
      "id": "6b870351",
      "metadata": {
        "colab": {
          "base_uri": "https://localhost:8080/",
          "height": 270
        },
        "id": "6b870351",
        "outputId": "31410fcd-e656-47cf-8227-859bdb248582"
      },
      "outputs": [
        {
          "output_type": "execute_result",
          "data": {
            "text/plain": [
              "  HeartDisease    BMI Smoking AlcoholDrinking Stroke  PhysicalHealth  \\\n",
              "0           No  16.60     Yes              No     No             3.0   \n",
              "1           No  20.34      No              No    Yes             0.0   \n",
              "2           No  26.58     Yes              No     No            20.0   \n",
              "3           No  24.21      No              No     No             0.0   \n",
              "4           No  23.71      No              No     No            28.0   \n",
              "\n",
              "   MentalHealth DiffWalking     Sex  AgeCategory   Race Diabetic  \\\n",
              "0          30.0          No  Female        55-59  White      Yes   \n",
              "1           0.0          No  Female  80 or older  White       No   \n",
              "2          30.0          No    Male        65-69  White      Yes   \n",
              "3           0.0          No  Female        75-79  White       No   \n",
              "4           0.0         Yes  Female        40-44  White       No   \n",
              "\n",
              "  PhysicalActivity  GenHealth  SleepTime Asthma KidneyDisease SkinCancer  \n",
              "0              Yes  Very good        5.0    Yes            No        Yes  \n",
              "1              Yes  Very good        7.0     No            No         No  \n",
              "2              Yes       Fair        8.0    Yes            No         No  \n",
              "3               No       Good        6.0     No            No        Yes  \n",
              "4              Yes  Very good        8.0     No            No         No  "
            ],
            "text/html": [
              "\n",
              "  <div id=\"df-5b6b4727-55d6-4835-88e0-c16d7cfa7bcc\">\n",
              "    <div class=\"colab-df-container\">\n",
              "      <div>\n",
              "<style scoped>\n",
              "    .dataframe tbody tr th:only-of-type {\n",
              "        vertical-align: middle;\n",
              "    }\n",
              "\n",
              "    .dataframe tbody tr th {\n",
              "        vertical-align: top;\n",
              "    }\n",
              "\n",
              "    .dataframe thead th {\n",
              "        text-align: right;\n",
              "    }\n",
              "</style>\n",
              "<table border=\"1\" class=\"dataframe\">\n",
              "  <thead>\n",
              "    <tr style=\"text-align: right;\">\n",
              "      <th></th>\n",
              "      <th>HeartDisease</th>\n",
              "      <th>BMI</th>\n",
              "      <th>Smoking</th>\n",
              "      <th>AlcoholDrinking</th>\n",
              "      <th>Stroke</th>\n",
              "      <th>PhysicalHealth</th>\n",
              "      <th>MentalHealth</th>\n",
              "      <th>DiffWalking</th>\n",
              "      <th>Sex</th>\n",
              "      <th>AgeCategory</th>\n",
              "      <th>Race</th>\n",
              "      <th>Diabetic</th>\n",
              "      <th>PhysicalActivity</th>\n",
              "      <th>GenHealth</th>\n",
              "      <th>SleepTime</th>\n",
              "      <th>Asthma</th>\n",
              "      <th>KidneyDisease</th>\n",
              "      <th>SkinCancer</th>\n",
              "    </tr>\n",
              "  </thead>\n",
              "  <tbody>\n",
              "    <tr>\n",
              "      <th>0</th>\n",
              "      <td>No</td>\n",
              "      <td>16.60</td>\n",
              "      <td>Yes</td>\n",
              "      <td>No</td>\n",
              "      <td>No</td>\n",
              "      <td>3.0</td>\n",
              "      <td>30.0</td>\n",
              "      <td>No</td>\n",
              "      <td>Female</td>\n",
              "      <td>55-59</td>\n",
              "      <td>White</td>\n",
              "      <td>Yes</td>\n",
              "      <td>Yes</td>\n",
              "      <td>Very good</td>\n",
              "      <td>5.0</td>\n",
              "      <td>Yes</td>\n",
              "      <td>No</td>\n",
              "      <td>Yes</td>\n",
              "    </tr>\n",
              "    <tr>\n",
              "      <th>1</th>\n",
              "      <td>No</td>\n",
              "      <td>20.34</td>\n",
              "      <td>No</td>\n",
              "      <td>No</td>\n",
              "      <td>Yes</td>\n",
              "      <td>0.0</td>\n",
              "      <td>0.0</td>\n",
              "      <td>No</td>\n",
              "      <td>Female</td>\n",
              "      <td>80 or older</td>\n",
              "      <td>White</td>\n",
              "      <td>No</td>\n",
              "      <td>Yes</td>\n",
              "      <td>Very good</td>\n",
              "      <td>7.0</td>\n",
              "      <td>No</td>\n",
              "      <td>No</td>\n",
              "      <td>No</td>\n",
              "    </tr>\n",
              "    <tr>\n",
              "      <th>2</th>\n",
              "      <td>No</td>\n",
              "      <td>26.58</td>\n",
              "      <td>Yes</td>\n",
              "      <td>No</td>\n",
              "      <td>No</td>\n",
              "      <td>20.0</td>\n",
              "      <td>30.0</td>\n",
              "      <td>No</td>\n",
              "      <td>Male</td>\n",
              "      <td>65-69</td>\n",
              "      <td>White</td>\n",
              "      <td>Yes</td>\n",
              "      <td>Yes</td>\n",
              "      <td>Fair</td>\n",
              "      <td>8.0</td>\n",
              "      <td>Yes</td>\n",
              "      <td>No</td>\n",
              "      <td>No</td>\n",
              "    </tr>\n",
              "    <tr>\n",
              "      <th>3</th>\n",
              "      <td>No</td>\n",
              "      <td>24.21</td>\n",
              "      <td>No</td>\n",
              "      <td>No</td>\n",
              "      <td>No</td>\n",
              "      <td>0.0</td>\n",
              "      <td>0.0</td>\n",
              "      <td>No</td>\n",
              "      <td>Female</td>\n",
              "      <td>75-79</td>\n",
              "      <td>White</td>\n",
              "      <td>No</td>\n",
              "      <td>No</td>\n",
              "      <td>Good</td>\n",
              "      <td>6.0</td>\n",
              "      <td>No</td>\n",
              "      <td>No</td>\n",
              "      <td>Yes</td>\n",
              "    </tr>\n",
              "    <tr>\n",
              "      <th>4</th>\n",
              "      <td>No</td>\n",
              "      <td>23.71</td>\n",
              "      <td>No</td>\n",
              "      <td>No</td>\n",
              "      <td>No</td>\n",
              "      <td>28.0</td>\n",
              "      <td>0.0</td>\n",
              "      <td>Yes</td>\n",
              "      <td>Female</td>\n",
              "      <td>40-44</td>\n",
              "      <td>White</td>\n",
              "      <td>No</td>\n",
              "      <td>Yes</td>\n",
              "      <td>Very good</td>\n",
              "      <td>8.0</td>\n",
              "      <td>No</td>\n",
              "      <td>No</td>\n",
              "      <td>No</td>\n",
              "    </tr>\n",
              "  </tbody>\n",
              "</table>\n",
              "</div>\n",
              "      <button class=\"colab-df-convert\" onclick=\"convertToInteractive('df-5b6b4727-55d6-4835-88e0-c16d7cfa7bcc')\"\n",
              "              title=\"Convert this dataframe to an interactive table.\"\n",
              "              style=\"display:none;\">\n",
              "        \n",
              "  <svg xmlns=\"http://www.w3.org/2000/svg\" height=\"24px\"viewBox=\"0 0 24 24\"\n",
              "       width=\"24px\">\n",
              "    <path d=\"M0 0h24v24H0V0z\" fill=\"none\"/>\n",
              "    <path d=\"M18.56 5.44l.94 2.06.94-2.06 2.06-.94-2.06-.94-.94-2.06-.94 2.06-2.06.94zm-11 1L8.5 8.5l.94-2.06 2.06-.94-2.06-.94L8.5 2.5l-.94 2.06-2.06.94zm10 10l.94 2.06.94-2.06 2.06-.94-2.06-.94-.94-2.06-.94 2.06-2.06.94z\"/><path d=\"M17.41 7.96l-1.37-1.37c-.4-.4-.92-.59-1.43-.59-.52 0-1.04.2-1.43.59L10.3 9.45l-7.72 7.72c-.78.78-.78 2.05 0 2.83L4 21.41c.39.39.9.59 1.41.59.51 0 1.02-.2 1.41-.59l7.78-7.78 2.81-2.81c.8-.78.8-2.07 0-2.86zM5.41 20L4 18.59l7.72-7.72 1.47 1.35L5.41 20z\"/>\n",
              "  </svg>\n",
              "      </button>\n",
              "      \n",
              "  <style>\n",
              "    .colab-df-container {\n",
              "      display:flex;\n",
              "      flex-wrap:wrap;\n",
              "      gap: 12px;\n",
              "    }\n",
              "\n",
              "    .colab-df-convert {\n",
              "      background-color: #E8F0FE;\n",
              "      border: none;\n",
              "      border-radius: 50%;\n",
              "      cursor: pointer;\n",
              "      display: none;\n",
              "      fill: #1967D2;\n",
              "      height: 32px;\n",
              "      padding: 0 0 0 0;\n",
              "      width: 32px;\n",
              "    }\n",
              "\n",
              "    .colab-df-convert:hover {\n",
              "      background-color: #E2EBFA;\n",
              "      box-shadow: 0px 1px 2px rgba(60, 64, 67, 0.3), 0px 1px 3px 1px rgba(60, 64, 67, 0.15);\n",
              "      fill: #174EA6;\n",
              "    }\n",
              "\n",
              "    [theme=dark] .colab-df-convert {\n",
              "      background-color: #3B4455;\n",
              "      fill: #D2E3FC;\n",
              "    }\n",
              "\n",
              "    [theme=dark] .colab-df-convert:hover {\n",
              "      background-color: #434B5C;\n",
              "      box-shadow: 0px 1px 3px 1px rgba(0, 0, 0, 0.15);\n",
              "      filter: drop-shadow(0px 1px 2px rgba(0, 0, 0, 0.3));\n",
              "      fill: #FFFFFF;\n",
              "    }\n",
              "  </style>\n",
              "\n",
              "      <script>\n",
              "        const buttonEl =\n",
              "          document.querySelector('#df-5b6b4727-55d6-4835-88e0-c16d7cfa7bcc button.colab-df-convert');\n",
              "        buttonEl.style.display =\n",
              "          google.colab.kernel.accessAllowed ? 'block' : 'none';\n",
              "\n",
              "        async function convertToInteractive(key) {\n",
              "          const element = document.querySelector('#df-5b6b4727-55d6-4835-88e0-c16d7cfa7bcc');\n",
              "          const dataTable =\n",
              "            await google.colab.kernel.invokeFunction('convertToInteractive',\n",
              "                                                     [key], {});\n",
              "          if (!dataTable) return;\n",
              "\n",
              "          const docLinkHtml = 'Like what you see? Visit the ' +\n",
              "            '<a target=\"_blank\" href=https://colab.research.google.com/notebooks/data_table.ipynb>data table notebook</a>'\n",
              "            + ' to learn more about interactive tables.';\n",
              "          element.innerHTML = '';\n",
              "          dataTable['output_type'] = 'display_data';\n",
              "          await google.colab.output.renderOutput(dataTable, element);\n",
              "          const docLink = document.createElement('div');\n",
              "          docLink.innerHTML = docLinkHtml;\n",
              "          element.appendChild(docLink);\n",
              "        }\n",
              "      </script>\n",
              "    </div>\n",
              "  </div>\n",
              "  "
            ]
          },
          "metadata": {},
          "execution_count": 4
        }
      ],
      "source": [
        "data.head()"
      ]
    },
    {
      "cell_type": "code",
      "source": [
        "data.info()"
      ],
      "metadata": {
        "colab": {
          "base_uri": "https://localhost:8080/"
        },
        "id": "Fs4GKTXAjGP8",
        "outputId": "391f739a-92f6-4c06-8833-8444e7806457"
      },
      "id": "Fs4GKTXAjGP8",
      "execution_count": null,
      "outputs": [
        {
          "output_type": "stream",
          "name": "stdout",
          "text": [
            "<class 'pandas.core.frame.DataFrame'>\n",
            "RangeIndex: 146482 entries, 0 to 146481\n",
            "Data columns (total 18 columns):\n",
            " #   Column            Non-Null Count   Dtype  \n",
            "---  ------            --------------   -----  \n",
            " 0   HeartDisease      146482 non-null  object \n",
            " 1   BMI               146482 non-null  float64\n",
            " 2   Smoking           146482 non-null  object \n",
            " 3   AlcoholDrinking   146482 non-null  object \n",
            " 4   Stroke            146482 non-null  object \n",
            " 5   PhysicalHealth    146482 non-null  float64\n",
            " 6   MentalHealth      146482 non-null  float64\n",
            " 7   DiffWalking       146482 non-null  object \n",
            " 8   Sex               146482 non-null  object \n",
            " 9   AgeCategory       146482 non-null  object \n",
            " 10  Race              146482 non-null  object \n",
            " 11  Diabetic          146482 non-null  object \n",
            " 12  PhysicalActivity  146482 non-null  object \n",
            " 13  GenHealth         146481 non-null  object \n",
            " 14  SleepTime         146481 non-null  float64\n",
            " 15  Asthma            146481 non-null  object \n",
            " 16  KidneyDisease     146481 non-null  object \n",
            " 17  SkinCancer        146481 non-null  object \n",
            "dtypes: float64(4), object(14)\n",
            "memory usage: 20.1+ MB\n"
          ]
        }
      ]
    },
    {
      "cell_type": "code",
      "source": [
        "data.describe()"
      ],
      "metadata": {
        "colab": {
          "base_uri": "https://localhost:8080/",
          "height": 300
        },
        "id": "QQ2-9PaAjGiK",
        "outputId": "b33b1eea-ebe0-4777-9e91-8c6bfe3619f9"
      },
      "id": "QQ2-9PaAjGiK",
      "execution_count": null,
      "outputs": [
        {
          "output_type": "execute_result",
          "data": {
            "text/plain": [
              "                 BMI  PhysicalHealth   MentalHealth      SleepTime\n",
              "count  146482.000000   146482.000000  146482.000000  146481.000000\n",
              "mean       28.243109        3.350808       3.908453       7.102935\n",
              "std         6.351545        7.902670       7.928353       1.451533\n",
              "min        12.020000        0.000000       0.000000       1.000000\n",
              "25%        23.880000        0.000000       0.000000       6.000000\n",
              "50%        27.260000        0.000000       0.000000       7.000000\n",
              "75%        31.320000        2.000000       3.000000       8.000000\n",
              "max        94.850000       30.000000      30.000000      24.000000"
            ],
            "text/html": [
              "\n",
              "  <div id=\"df-813b2167-8482-421a-95e1-112c70af5c41\">\n",
              "    <div class=\"colab-df-container\">\n",
              "      <div>\n",
              "<style scoped>\n",
              "    .dataframe tbody tr th:only-of-type {\n",
              "        vertical-align: middle;\n",
              "    }\n",
              "\n",
              "    .dataframe tbody tr th {\n",
              "        vertical-align: top;\n",
              "    }\n",
              "\n",
              "    .dataframe thead th {\n",
              "        text-align: right;\n",
              "    }\n",
              "</style>\n",
              "<table border=\"1\" class=\"dataframe\">\n",
              "  <thead>\n",
              "    <tr style=\"text-align: right;\">\n",
              "      <th></th>\n",
              "      <th>BMI</th>\n",
              "      <th>PhysicalHealth</th>\n",
              "      <th>MentalHealth</th>\n",
              "      <th>SleepTime</th>\n",
              "    </tr>\n",
              "  </thead>\n",
              "  <tbody>\n",
              "    <tr>\n",
              "      <th>count</th>\n",
              "      <td>146482.000000</td>\n",
              "      <td>146482.000000</td>\n",
              "      <td>146482.000000</td>\n",
              "      <td>146481.000000</td>\n",
              "    </tr>\n",
              "    <tr>\n",
              "      <th>mean</th>\n",
              "      <td>28.243109</td>\n",
              "      <td>3.350808</td>\n",
              "      <td>3.908453</td>\n",
              "      <td>7.102935</td>\n",
              "    </tr>\n",
              "    <tr>\n",
              "      <th>std</th>\n",
              "      <td>6.351545</td>\n",
              "      <td>7.902670</td>\n",
              "      <td>7.928353</td>\n",
              "      <td>1.451533</td>\n",
              "    </tr>\n",
              "    <tr>\n",
              "      <th>min</th>\n",
              "      <td>12.020000</td>\n",
              "      <td>0.000000</td>\n",
              "      <td>0.000000</td>\n",
              "      <td>1.000000</td>\n",
              "    </tr>\n",
              "    <tr>\n",
              "      <th>25%</th>\n",
              "      <td>23.880000</td>\n",
              "      <td>0.000000</td>\n",
              "      <td>0.000000</td>\n",
              "      <td>6.000000</td>\n",
              "    </tr>\n",
              "    <tr>\n",
              "      <th>50%</th>\n",
              "      <td>27.260000</td>\n",
              "      <td>0.000000</td>\n",
              "      <td>0.000000</td>\n",
              "      <td>7.000000</td>\n",
              "    </tr>\n",
              "    <tr>\n",
              "      <th>75%</th>\n",
              "      <td>31.320000</td>\n",
              "      <td>2.000000</td>\n",
              "      <td>3.000000</td>\n",
              "      <td>8.000000</td>\n",
              "    </tr>\n",
              "    <tr>\n",
              "      <th>max</th>\n",
              "      <td>94.850000</td>\n",
              "      <td>30.000000</td>\n",
              "      <td>30.000000</td>\n",
              "      <td>24.000000</td>\n",
              "    </tr>\n",
              "  </tbody>\n",
              "</table>\n",
              "</div>\n",
              "      <button class=\"colab-df-convert\" onclick=\"convertToInteractive('df-813b2167-8482-421a-95e1-112c70af5c41')\"\n",
              "              title=\"Convert this dataframe to an interactive table.\"\n",
              "              style=\"display:none;\">\n",
              "        \n",
              "  <svg xmlns=\"http://www.w3.org/2000/svg\" height=\"24px\"viewBox=\"0 0 24 24\"\n",
              "       width=\"24px\">\n",
              "    <path d=\"M0 0h24v24H0V0z\" fill=\"none\"/>\n",
              "    <path d=\"M18.56 5.44l.94 2.06.94-2.06 2.06-.94-2.06-.94-.94-2.06-.94 2.06-2.06.94zm-11 1L8.5 8.5l.94-2.06 2.06-.94-2.06-.94L8.5 2.5l-.94 2.06-2.06.94zm10 10l.94 2.06.94-2.06 2.06-.94-2.06-.94-.94-2.06-.94 2.06-2.06.94z\"/><path d=\"M17.41 7.96l-1.37-1.37c-.4-.4-.92-.59-1.43-.59-.52 0-1.04.2-1.43.59L10.3 9.45l-7.72 7.72c-.78.78-.78 2.05 0 2.83L4 21.41c.39.39.9.59 1.41.59.51 0 1.02-.2 1.41-.59l7.78-7.78 2.81-2.81c.8-.78.8-2.07 0-2.86zM5.41 20L4 18.59l7.72-7.72 1.47 1.35L5.41 20z\"/>\n",
              "  </svg>\n",
              "      </button>\n",
              "      \n",
              "  <style>\n",
              "    .colab-df-container {\n",
              "      display:flex;\n",
              "      flex-wrap:wrap;\n",
              "      gap: 12px;\n",
              "    }\n",
              "\n",
              "    .colab-df-convert {\n",
              "      background-color: #E8F0FE;\n",
              "      border: none;\n",
              "      border-radius: 50%;\n",
              "      cursor: pointer;\n",
              "      display: none;\n",
              "      fill: #1967D2;\n",
              "      height: 32px;\n",
              "      padding: 0 0 0 0;\n",
              "      width: 32px;\n",
              "    }\n",
              "\n",
              "    .colab-df-convert:hover {\n",
              "      background-color: #E2EBFA;\n",
              "      box-shadow: 0px 1px 2px rgba(60, 64, 67, 0.3), 0px 1px 3px 1px rgba(60, 64, 67, 0.15);\n",
              "      fill: #174EA6;\n",
              "    }\n",
              "\n",
              "    [theme=dark] .colab-df-convert {\n",
              "      background-color: #3B4455;\n",
              "      fill: #D2E3FC;\n",
              "    }\n",
              "\n",
              "    [theme=dark] .colab-df-convert:hover {\n",
              "      background-color: #434B5C;\n",
              "      box-shadow: 0px 1px 3px 1px rgba(0, 0, 0, 0.15);\n",
              "      filter: drop-shadow(0px 1px 2px rgba(0, 0, 0, 0.3));\n",
              "      fill: #FFFFFF;\n",
              "    }\n",
              "  </style>\n",
              "\n",
              "      <script>\n",
              "        const buttonEl =\n",
              "          document.querySelector('#df-813b2167-8482-421a-95e1-112c70af5c41 button.colab-df-convert');\n",
              "        buttonEl.style.display =\n",
              "          google.colab.kernel.accessAllowed ? 'block' : 'none';\n",
              "\n",
              "        async function convertToInteractive(key) {\n",
              "          const element = document.querySelector('#df-813b2167-8482-421a-95e1-112c70af5c41');\n",
              "          const dataTable =\n",
              "            await google.colab.kernel.invokeFunction('convertToInteractive',\n",
              "                                                     [key], {});\n",
              "          if (!dataTable) return;\n",
              "\n",
              "          const docLinkHtml = 'Like what you see? Visit the ' +\n",
              "            '<a target=\"_blank\" href=https://colab.research.google.com/notebooks/data_table.ipynb>data table notebook</a>'\n",
              "            + ' to learn more about interactive tables.';\n",
              "          element.innerHTML = '';\n",
              "          dataTable['output_type'] = 'display_data';\n",
              "          await google.colab.output.renderOutput(dataTable, element);\n",
              "          const docLink = document.createElement('div');\n",
              "          docLink.innerHTML = docLinkHtml;\n",
              "          element.appendChild(docLink);\n",
              "        }\n",
              "      </script>\n",
              "    </div>\n",
              "  </div>\n",
              "  "
            ]
          },
          "metadata": {},
          "execution_count": 6
        }
      ]
    },
    {
      "cell_type": "markdown",
      "id": "59baf497",
      "metadata": {
        "id": "59baf497"
      },
      "source": [
        "### **Exploratory Data Analysis**\n",
        "   "
      ]
    },
    {
      "cell_type": "code",
      "source": [
        "d = pd.DataFrame(data[\"HeartDisease\"].value_counts())\n",
        "fig = px.pie(d, values = \"HeartDisease\", names = [\"No\", \"Yes\"], hole = 0.40, opacity = 0.9,\n",
        "            labels = {\"label\" :\"Yes\",\"No\":\"Number of Samples\"})\n",
        "fig.update_layout(title = dict(text = \"Pie Chart of HeartDisease ratio\"))\n",
        "fig.update_traces(textposition = \"outside\", textinfo = \"percent+label\")\n",
        "fig.show()"
      ],
      "metadata": {
        "colab": {
          "base_uri": "https://localhost:8080/",
          "height": 542
        },
        "id": "hCJQXuXMjxtl",
        "outputId": "e20329ba-2515-4f45-f81d-230f18b83161"
      },
      "id": "hCJQXuXMjxtl",
      "execution_count": null,
      "outputs": [
        {
          "output_type": "display_data",
          "data": {
            "text/html": [
              "<html>\n",
              "<head><meta charset=\"utf-8\" /></head>\n",
              "<body>\n",
              "    <div>            <script src=\"https://cdnjs.cloudflare.com/ajax/libs/mathjax/2.7.5/MathJax.js?config=TeX-AMS-MML_SVG\"></script><script type=\"text/javascript\">if (window.MathJax) {MathJax.Hub.Config({SVG: {font: \"STIX-Web\"}});}</script>                <script type=\"text/javascript\">window.PlotlyConfig = {MathJaxConfig: 'local'};</script>\n",
              "        <script src=\"https://cdn.plot.ly/plotly-2.8.3.min.js\"></script>                <div id=\"52d602c0-6d90-4e30-9c5f-4b0ee37807d8\" class=\"plotly-graph-div\" style=\"height:525px; width:100%;\"></div>            <script type=\"text/javascript\">                                    window.PLOTLYENV=window.PLOTLYENV || {};                                    if (document.getElementById(\"52d602c0-6d90-4e30-9c5f-4b0ee37807d8\")) {                    Plotly.newPlot(                        \"52d602c0-6d90-4e30-9c5f-4b0ee37807d8\",                        [{\"domain\":{\"x\":[0.0,1.0],\"y\":[0.0,1.0]},\"hole\":0.4,\"hovertemplate\":\"label=%{label}<br>HeartDisease=%{value}<extra></extra>\",\"labels\":[\"No\",\"Yes\"],\"legendgroup\":\"\",\"name\":\"\",\"opacity\":0.9,\"showlegend\":true,\"values\":[134005,12477],\"type\":\"pie\",\"textinfo\":\"percent+label\",\"textposition\":\"outside\"}],                        {\"template\":{\"data\":{\"bar\":[{\"error_x\":{\"color\":\"#2a3f5f\"},\"error_y\":{\"color\":\"#2a3f5f\"},\"marker\":{\"line\":{\"color\":\"#E5ECF6\",\"width\":0.5},\"pattern\":{\"fillmode\":\"overlay\",\"size\":10,\"solidity\":0.2}},\"type\":\"bar\"}],\"barpolar\":[{\"marker\":{\"line\":{\"color\":\"#E5ECF6\",\"width\":0.5},\"pattern\":{\"fillmode\":\"overlay\",\"size\":10,\"solidity\":0.2}},\"type\":\"barpolar\"}],\"carpet\":[{\"aaxis\":{\"endlinecolor\":\"#2a3f5f\",\"gridcolor\":\"white\",\"linecolor\":\"white\",\"minorgridcolor\":\"white\",\"startlinecolor\":\"#2a3f5f\"},\"baxis\":{\"endlinecolor\":\"#2a3f5f\",\"gridcolor\":\"white\",\"linecolor\":\"white\",\"minorgridcolor\":\"white\",\"startlinecolor\":\"#2a3f5f\"},\"type\":\"carpet\"}],\"choropleth\":[{\"colorbar\":{\"outlinewidth\":0,\"ticks\":\"\"},\"type\":\"choropleth\"}],\"contour\":[{\"colorbar\":{\"outlinewidth\":0,\"ticks\":\"\"},\"colorscale\":[[0.0,\"#0d0887\"],[0.1111111111111111,\"#46039f\"],[0.2222222222222222,\"#7201a8\"],[0.3333333333333333,\"#9c179e\"],[0.4444444444444444,\"#bd3786\"],[0.5555555555555556,\"#d8576b\"],[0.6666666666666666,\"#ed7953\"],[0.7777777777777778,\"#fb9f3a\"],[0.8888888888888888,\"#fdca26\"],[1.0,\"#f0f921\"]],\"type\":\"contour\"}],\"contourcarpet\":[{\"colorbar\":{\"outlinewidth\":0,\"ticks\":\"\"},\"type\":\"contourcarpet\"}],\"heatmap\":[{\"colorbar\":{\"outlinewidth\":0,\"ticks\":\"\"},\"colorscale\":[[0.0,\"#0d0887\"],[0.1111111111111111,\"#46039f\"],[0.2222222222222222,\"#7201a8\"],[0.3333333333333333,\"#9c179e\"],[0.4444444444444444,\"#bd3786\"],[0.5555555555555556,\"#d8576b\"],[0.6666666666666666,\"#ed7953\"],[0.7777777777777778,\"#fb9f3a\"],[0.8888888888888888,\"#fdca26\"],[1.0,\"#f0f921\"]],\"type\":\"heatmap\"}],\"heatmapgl\":[{\"colorbar\":{\"outlinewidth\":0,\"ticks\":\"\"},\"colorscale\":[[0.0,\"#0d0887\"],[0.1111111111111111,\"#46039f\"],[0.2222222222222222,\"#7201a8\"],[0.3333333333333333,\"#9c179e\"],[0.4444444444444444,\"#bd3786\"],[0.5555555555555556,\"#d8576b\"],[0.6666666666666666,\"#ed7953\"],[0.7777777777777778,\"#fb9f3a\"],[0.8888888888888888,\"#fdca26\"],[1.0,\"#f0f921\"]],\"type\":\"heatmapgl\"}],\"histogram\":[{\"marker\":{\"pattern\":{\"fillmode\":\"overlay\",\"size\":10,\"solidity\":0.2}},\"type\":\"histogram\"}],\"histogram2d\":[{\"colorbar\":{\"outlinewidth\":0,\"ticks\":\"\"},\"colorscale\":[[0.0,\"#0d0887\"],[0.1111111111111111,\"#46039f\"],[0.2222222222222222,\"#7201a8\"],[0.3333333333333333,\"#9c179e\"],[0.4444444444444444,\"#bd3786\"],[0.5555555555555556,\"#d8576b\"],[0.6666666666666666,\"#ed7953\"],[0.7777777777777778,\"#fb9f3a\"],[0.8888888888888888,\"#fdca26\"],[1.0,\"#f0f921\"]],\"type\":\"histogram2d\"}],\"histogram2dcontour\":[{\"colorbar\":{\"outlinewidth\":0,\"ticks\":\"\"},\"colorscale\":[[0.0,\"#0d0887\"],[0.1111111111111111,\"#46039f\"],[0.2222222222222222,\"#7201a8\"],[0.3333333333333333,\"#9c179e\"],[0.4444444444444444,\"#bd3786\"],[0.5555555555555556,\"#d8576b\"],[0.6666666666666666,\"#ed7953\"],[0.7777777777777778,\"#fb9f3a\"],[0.8888888888888888,\"#fdca26\"],[1.0,\"#f0f921\"]],\"type\":\"histogram2dcontour\"}],\"mesh3d\":[{\"colorbar\":{\"outlinewidth\":0,\"ticks\":\"\"},\"type\":\"mesh3d\"}],\"parcoords\":[{\"line\":{\"colorbar\":{\"outlinewidth\":0,\"ticks\":\"\"}},\"type\":\"parcoords\"}],\"pie\":[{\"automargin\":true,\"type\":\"pie\"}],\"scatter\":[{\"marker\":{\"colorbar\":{\"outlinewidth\":0,\"ticks\":\"\"}},\"type\":\"scatter\"}],\"scatter3d\":[{\"line\":{\"colorbar\":{\"outlinewidth\":0,\"ticks\":\"\"}},\"marker\":{\"colorbar\":{\"outlinewidth\":0,\"ticks\":\"\"}},\"type\":\"scatter3d\"}],\"scattercarpet\":[{\"marker\":{\"colorbar\":{\"outlinewidth\":0,\"ticks\":\"\"}},\"type\":\"scattercarpet\"}],\"scattergeo\":[{\"marker\":{\"colorbar\":{\"outlinewidth\":0,\"ticks\":\"\"}},\"type\":\"scattergeo\"}],\"scattergl\":[{\"marker\":{\"colorbar\":{\"outlinewidth\":0,\"ticks\":\"\"}},\"type\":\"scattergl\"}],\"scattermapbox\":[{\"marker\":{\"colorbar\":{\"outlinewidth\":0,\"ticks\":\"\"}},\"type\":\"scattermapbox\"}],\"scatterpolar\":[{\"marker\":{\"colorbar\":{\"outlinewidth\":0,\"ticks\":\"\"}},\"type\":\"scatterpolar\"}],\"scatterpolargl\":[{\"marker\":{\"colorbar\":{\"outlinewidth\":0,\"ticks\":\"\"}},\"type\":\"scatterpolargl\"}],\"scatterternary\":[{\"marker\":{\"colorbar\":{\"outlinewidth\":0,\"ticks\":\"\"}},\"type\":\"scatterternary\"}],\"surface\":[{\"colorbar\":{\"outlinewidth\":0,\"ticks\":\"\"},\"colorscale\":[[0.0,\"#0d0887\"],[0.1111111111111111,\"#46039f\"],[0.2222222222222222,\"#7201a8\"],[0.3333333333333333,\"#9c179e\"],[0.4444444444444444,\"#bd3786\"],[0.5555555555555556,\"#d8576b\"],[0.6666666666666666,\"#ed7953\"],[0.7777777777777778,\"#fb9f3a\"],[0.8888888888888888,\"#fdca26\"],[1.0,\"#f0f921\"]],\"type\":\"surface\"}],\"table\":[{\"cells\":{\"fill\":{\"color\":\"#EBF0F8\"},\"line\":{\"color\":\"white\"}},\"header\":{\"fill\":{\"color\":\"#C8D4E3\"},\"line\":{\"color\":\"white\"}},\"type\":\"table\"}]},\"layout\":{\"annotationdefaults\":{\"arrowcolor\":\"#2a3f5f\",\"arrowhead\":0,\"arrowwidth\":1},\"autotypenumbers\":\"strict\",\"coloraxis\":{\"colorbar\":{\"outlinewidth\":0,\"ticks\":\"\"}},\"colorscale\":{\"diverging\":[[0,\"#8e0152\"],[0.1,\"#c51b7d\"],[0.2,\"#de77ae\"],[0.3,\"#f1b6da\"],[0.4,\"#fde0ef\"],[0.5,\"#f7f7f7\"],[0.6,\"#e6f5d0\"],[0.7,\"#b8e186\"],[0.8,\"#7fbc41\"],[0.9,\"#4d9221\"],[1,\"#276419\"]],\"sequential\":[[0.0,\"#0d0887\"],[0.1111111111111111,\"#46039f\"],[0.2222222222222222,\"#7201a8\"],[0.3333333333333333,\"#9c179e\"],[0.4444444444444444,\"#bd3786\"],[0.5555555555555556,\"#d8576b\"],[0.6666666666666666,\"#ed7953\"],[0.7777777777777778,\"#fb9f3a\"],[0.8888888888888888,\"#fdca26\"],[1.0,\"#f0f921\"]],\"sequentialminus\":[[0.0,\"#0d0887\"],[0.1111111111111111,\"#46039f\"],[0.2222222222222222,\"#7201a8\"],[0.3333333333333333,\"#9c179e\"],[0.4444444444444444,\"#bd3786\"],[0.5555555555555556,\"#d8576b\"],[0.6666666666666666,\"#ed7953\"],[0.7777777777777778,\"#fb9f3a\"],[0.8888888888888888,\"#fdca26\"],[1.0,\"#f0f921\"]]},\"colorway\":[\"#636efa\",\"#EF553B\",\"#00cc96\",\"#ab63fa\",\"#FFA15A\",\"#19d3f3\",\"#FF6692\",\"#B6E880\",\"#FF97FF\",\"#FECB52\"],\"font\":{\"color\":\"#2a3f5f\"},\"geo\":{\"bgcolor\":\"white\",\"lakecolor\":\"white\",\"landcolor\":\"#E5ECF6\",\"showlakes\":true,\"showland\":true,\"subunitcolor\":\"white\"},\"hoverlabel\":{\"align\":\"left\"},\"hovermode\":\"closest\",\"mapbox\":{\"style\":\"light\"},\"paper_bgcolor\":\"white\",\"plot_bgcolor\":\"#E5ECF6\",\"polar\":{\"angularaxis\":{\"gridcolor\":\"white\",\"linecolor\":\"white\",\"ticks\":\"\"},\"bgcolor\":\"#E5ECF6\",\"radialaxis\":{\"gridcolor\":\"white\",\"linecolor\":\"white\",\"ticks\":\"\"}},\"scene\":{\"xaxis\":{\"backgroundcolor\":\"#E5ECF6\",\"gridcolor\":\"white\",\"gridwidth\":2,\"linecolor\":\"white\",\"showbackground\":true,\"ticks\":\"\",\"zerolinecolor\":\"white\"},\"yaxis\":{\"backgroundcolor\":\"#E5ECF6\",\"gridcolor\":\"white\",\"gridwidth\":2,\"linecolor\":\"white\",\"showbackground\":true,\"ticks\":\"\",\"zerolinecolor\":\"white\"},\"zaxis\":{\"backgroundcolor\":\"#E5ECF6\",\"gridcolor\":\"white\",\"gridwidth\":2,\"linecolor\":\"white\",\"showbackground\":true,\"ticks\":\"\",\"zerolinecolor\":\"white\"}},\"shapedefaults\":{\"line\":{\"color\":\"#2a3f5f\"}},\"ternary\":{\"aaxis\":{\"gridcolor\":\"white\",\"linecolor\":\"white\",\"ticks\":\"\"},\"baxis\":{\"gridcolor\":\"white\",\"linecolor\":\"white\",\"ticks\":\"\"},\"bgcolor\":\"#E5ECF6\",\"caxis\":{\"gridcolor\":\"white\",\"linecolor\":\"white\",\"ticks\":\"\"}},\"title\":{\"x\":0.05},\"xaxis\":{\"automargin\":true,\"gridcolor\":\"white\",\"linecolor\":\"white\",\"ticks\":\"\",\"title\":{\"standoff\":15},\"zerolinecolor\":\"white\",\"zerolinewidth\":2},\"yaxis\":{\"automargin\":true,\"gridcolor\":\"white\",\"linecolor\":\"white\",\"ticks\":\"\",\"title\":{\"standoff\":15},\"zerolinecolor\":\"white\",\"zerolinewidth\":2}}},\"legend\":{\"tracegroupgap\":0},\"margin\":{\"t\":60},\"title\":{\"text\":\"Pie Chart of HeartDisease ratio\"}},                        {\"responsive\": true}                    ).then(function(){\n",
              "                            \n",
              "var gd = document.getElementById('52d602c0-6d90-4e30-9c5f-4b0ee37807d8');\n",
              "var x = new MutationObserver(function (mutations, observer) {{\n",
              "        var display = window.getComputedStyle(gd).display;\n",
              "        if (!display || display === 'none') {{\n",
              "            console.log([gd, 'removed!']);\n",
              "            Plotly.purge(gd);\n",
              "            observer.disconnect();\n",
              "        }}\n",
              "}});\n",
              "\n",
              "// Listen for the removal of the full notebook cells\n",
              "var notebookContainer = gd.closest('#notebook-container');\n",
              "if (notebookContainer) {{\n",
              "    x.observe(notebookContainer, {childList: true});\n",
              "}}\n",
              "\n",
              "// Listen for the clearing of the current output cell\n",
              "var outputEl = gd.closest('.output');\n",
              "if (outputEl) {{\n",
              "    x.observe(outputEl, {childList: true});\n",
              "}}\n",
              "\n",
              "                        })                };                            </script>        </div>\n",
              "</body>\n",
              "</html>"
            ]
          },
          "metadata": {}
        }
      ]
    },
    {
      "cell_type": "code",
      "execution_count": null,
      "id": "483d34bf",
      "metadata": {
        "colab": {
          "base_uri": "https://localhost:8080/",
          "height": 584
        },
        "id": "483d34bf",
        "outputId": "98237fb7-8240-49d7-d44d-09b3649f8a78"
      },
      "outputs": [
        {
          "output_type": "display_data",
          "data": {
            "text/plain": [
              "<Figure size 1080x1080 with 4 Axes>"
            ],
            "image/png": "[encoded data removed]"
          },
          "metadata": {
            "needs_background": "light"
          }
        }
      ],
      "source": [
        "# Data distribution of Numerical Variables\n",
        "data_diseased = data[data['HeartDisease']=='Yes']\n",
        "data2_diseased  = data_diseased.select_dtypes(include=['int', 'float'])\n",
        "num_values = data2_diseased.columns\n",
        "plt.figure(figsize=(15,15))\n",
        "sns.set()\n",
        "for i, var in enumerate(num_values):\n",
        "    plt.subplot(3,2,i+1)\n",
        "    sns.distplot(data2_diseased[var], bins=10, kde_kws={'linewidth':2, 'color':'seagreen'})"
      ]
    },
    {
      "cell_type": "code",
      "execution_count": null,
      "id": "672b95c6",
      "metadata": {
        "colab": {
          "base_uri": "https://localhost:8080/",
          "height": 393
        },
        "id": "672b95c6",
        "outputId": "0f852ec6-7a7c-41f8-a2b5-3d675ae1c253"
      },
      "outputs": [
        {
          "output_type": "execute_result",
          "data": {
            "text/plain": [
              "<matplotlib.axes._subplots.AxesSubplot at 0x7ff7383e8450>"
            ]
          },
          "metadata": {},
          "execution_count": 9
        },
        {
          "output_type": "display_data",
          "data": {
            "text/plain": [
              "<Figure size 360x360 with 1 Axes>"
            ],
            "image/png": "[encoded data removed]"
          },
          "metadata": {}
        }
      ],
      "source": [
        "plt.figure(figsize=(5,5))\n",
        "sns.set()\n",
        "plt.suptitle('Gender Analysis of diseased persons')\n",
        "sns.countplot(data_diseased['Sex'], color = 'tomato')"
      ]
    },
    {
      "cell_type": "markdown",
      "source": [
        "**Race count plot of diseased persons**"
      ],
      "metadata": {
        "id": "c-Kp6G6s1XxX"
      },
      "id": "c-Kp6G6s1XxX"
    },
    {
      "cell_type": "code",
      "execution_count": null,
      "id": "5f610d84",
      "metadata": {
        "colab": {
          "base_uri": "https://localhost:8080/",
          "height": 347
        },
        "id": "5f610d84",
        "outputId": "a244764b-0c79-4ad4-e299-6b8faed7b505"
      },
      "outputs": [
        {
          "output_type": "execute_result",
          "data": {
            "text/plain": [
              "<matplotlib.axes._subplots.AxesSubplot at 0x7ff736701650>"
            ]
          },
          "metadata": {},
          "execution_count": 10
        },
        {
          "output_type": "display_data",
          "data": {
            "text/plain": [
              "<Figure size 1080x360 with 1 Axes>"
            ],
            "image/png": "[encoded data removed]"
          },
          "metadata": {}
        }
      ],
      "source": [
        "plt.figure(figsize=(15,5))\n",
        "sns.countplot(data_diseased['Race'])"
      ]
    },
    {
      "cell_type": "markdown",
      "source": [
        "### **Data Cleaning**"
      ],
      "metadata": {
        "id": "T4jMYWKvzQ9V"
      },
      "id": "T4jMYWKvzQ9V"
    },
    {
      "cell_type": "code",
      "source": [
        "data.isna().sum()"
      ],
      "metadata": {
        "colab": {
          "base_uri": "https://localhost:8080/"
        },
        "id": "SNyu5svel1Js",
        "outputId": "b2bff219-6149-40ba-f3fe-8d0ff3e86f92"
      },
      "id": "SNyu5svel1Js",
      "execution_count": null,
      "outputs": [
        {
          "output_type": "execute_result",
          "data": {
            "text/plain": [
              "HeartDisease        0\n",
              "BMI                 0\n",
              "Smoking             0\n",
              "AlcoholDrinking     0\n",
              "Stroke              0\n",
              "PhysicalHealth      0\n",
              "MentalHealth        0\n",
              "DiffWalking         0\n",
              "Sex                 0\n",
              "AgeCategory         0\n",
              "Race                0\n",
              "Diabetic            0\n",
              "PhysicalActivity    0\n",
              "GenHealth           0\n",
              "SleepTime           0\n",
              "Asthma              0\n",
              "KidneyDisease       0\n",
              "SkinCancer          0\n",
              "dtype: int64"
            ]
          },
          "metadata": {},
          "execution_count": 19
        }
      ]
    },
    {
      "cell_type": "markdown",
      "id": "03592bf6",
      "metadata": {
        "id": "03592bf6"
      },
      "source": [
        "### **Data Preprocessing**"
      ]
    },
    {
      "cell_type": "code",
      "execution_count": null,
      "id": "d8320fea",
      "metadata": {
        "colab": {
          "base_uri": "https://localhost:8080/"
        },
        "id": "d8320fea",
        "outputId": "578e4241-390d-4584-e61e-0f9d632e0c43"
      },
      "outputs": [
        {
          "output_type": "stream",
          "name": "stdout",
          "text": [
            "<class 'pandas.core.frame.DataFrame'>\n",
            "RangeIndex: 319795 entries, 0 to 319794\n",
            "Data columns (total 18 columns):\n",
            " #   Column            Non-Null Count   Dtype  \n",
            "---  ------            --------------   -----  \n",
            " 0   HeartDisease      319795 non-null  int64  \n",
            " 1   BMI               319795 non-null  float64\n",
            " 2   Smoking           319795 non-null  int64  \n",
            " 3   AlcoholDrinking   319795 non-null  int64  \n",
            " 4   Stroke            319795 non-null  int64  \n",
            " 5   PhysicalHealth    319795 non-null  float64\n",
            " 6   MentalHealth      319795 non-null  float64\n",
            " 7   DiffWalking       319795 non-null  int64  \n",
            " 8   Sex               319795 non-null  int64  \n",
            " 9   AgeCategory       319795 non-null  int64  \n",
            " 10  Race              319795 non-null  int64  \n",
            " 11  Diabetic          319795 non-null  int64  \n",
            " 12  PhysicalActivity  319795 non-null  int64  \n",
            " 13  GenHealth         319795 non-null  int64  \n",
            " 14  SleepTime         319795 non-null  float64\n",
            " 15  Asthma            319795 non-null  int64  \n",
            " 16  KidneyDisease     319795 non-null  int64  \n",
            " 17  SkinCancer        319795 non-null  int64  \n",
            "dtypes: float64(4), int64(14)\n",
            "memory usage: 43.9 MB\n"
          ]
        }
      ],
      "source": [
        "data2 = data.copy()\n",
        "data2['HeartDisease'].replace({'Yes':1,'No':0},inplace=True)\n",
        "data2['Smoking'].replace({'Yes':3,'No':2},inplace=True)\n",
        "data2['AlcoholDrinking'].replace({'Yes':3,'No':2},inplace=True)\n",
        "data2['Stroke'].replace({'Yes':3,'No':2},inplace=True)\n",
        "data2['DiffWalking'].replace({'Yes':3,'No':2},inplace=True)\n",
        "data2['Sex'].replace({'Male':3,'Female':2},inplace=True)\n",
        "data2['Diabetic'].replace({'Yes':3,'No':2,'No, borderline diabetes':4,'Yes (during pregnancy)':5},inplace=True)\n",
        "data2['PhysicalActivity'].replace({'Yes':3,'No':2},inplace=True)\n",
        "data2['Asthma'].replace({'Yes':3,'No':2},inplace=True)\n",
        "data2['KidneyDisease'].replace({'Yes':3,'No':2},inplace=True)\n",
        "data2['SkinCancer'].replace({'Yes':3,'No':2},inplace=True)\n",
        "data2['AgeCategory'].replace({'18-24':2,'25-29':3,'30-34':4,'35-39':5,'40-44':6,'45-49':7,'50-54':8,'55-59':9,'60-64':10,'65-69':11,'70-74':12,'75-79':13,'80 or older':14},inplace=True)\n",
        "data2['Race'].replace({'White':2,'Black':3,'Asian':4,'American Indian/Alaskan Native':5,'Other':6,'Hispanic':7},inplace=True)\n",
        "data2['GenHealth'].replace({'Very good':2,'Fair':3,'Good':4,'Poor':5,'Excellent':6},inplace=True)\n",
        "data2.info()"
      ]
    },
    {
      "cell_type": "markdown",
      "source": [
        "### **Features selection**"
      ],
      "metadata": {
        "id": "IVI-H4dXzHwp"
      },
      "id": "IVI-H4dXzHwp"
    },
    {
      "cell_type": "code",
      "execution_count": null,
      "id": "0dfa9a49",
      "metadata": {
        "id": "0dfa9a49"
      },
      "outputs": [],
      "source": [
        "x = np.array(data2[list(data2.columns)[1:]])\n",
        "y = np.array(data2['HeartDisease'])"
      ]
    },
    {
      "cell_type": "code",
      "execution_count": null,
      "id": "f26f0cfe",
      "metadata": {
        "id": "f26f0cfe"
      },
      "outputs": [],
      "source": [
        "x_train, x_test, y_train, y_test = train_test_split(x, y, test_size = 0.2, random_state = 42)"
      ]
    },
    {
      "cell_type": "markdown",
      "source": [
        "### **Neural Network**"
      ],
      "metadata": {
        "id": "V4hz0_DVw29T"
      },
      "id": "V4hz0_DVw29T"
    },
    {
      "cell_type": "code",
      "source": [
        "import tensorflow as tf\n",
        "from tensorflow.keras import Sequential\n",
        "from tensorflow.keras.layers import Dense\n",
        "from tensorflow.keras.utils import to_categorical\n",
        "y_labels = to_categorical(y_train)\n",
        "# creating a model\n",
        "model = Sequential()\n",
        "model.add(Dense(16, activation='relu', input_shape=(17,)))\n",
        "model.add(Dense(32, activation='relu'))\n",
        "model.add(Dense(2, activation='sigmoid'))\n",
        "\n",
        "# compile the model\n",
        "model.compile(optimizer='adam', loss='binary_crossentropy', metrics=['accuracy'])\n",
        "res = model.fit(x_train, y_labels, epochs=30, batch_size=20, validation_split=0.1)"
      ],
      "metadata": {
        "colab": {
          "base_uri": "https://localhost:8080/"
        },
        "id": "Bn4QXdUfo4iD",
        "outputId": "9fd8f156-3ea3-4a8a-b98c-0f755af9c442"
      },
      "id": "Bn4QXdUfo4iD",
      "execution_count": null,
      "outputs": [
        {
          "output_type": "stream",
          "name": "stdout",
          "text": [
            "Epoch 1/30\n",
            "11513/11513 [==============================] - 41s 3ms/step - loss: 0.2536 - accuracy: 0.9150 - val_loss: 0.2474 - val_accuracy: 0.9138\n",
            "Epoch 2/30\n",
            "11513/11513 [==============================] - 34s 3ms/step - loss: 0.2409 - accuracy: 0.9150 - val_loss: 0.2418 - val_accuracy: 0.9143\n",
            "Epoch 3/30\n",
            "11513/11513 [==============================] - 34s 3ms/step - loss: 0.2367 - accuracy: 0.9153 - val_loss: 0.2390 - val_accuracy: 0.9142\n",
            "Epoch 4/30\n",
            "11513/11513 [==============================] - 34s 3ms/step - loss: 0.2344 - accuracy: 0.9155 - val_loss: 0.2365 - val_accuracy: 0.9149\n",
            "Epoch 5/30\n",
            "11513/11513 [==============================] - 33s 3ms/step - loss: 0.2327 - accuracy: 0.9155 - val_loss: 0.2341 - val_accuracy: 0.9143\n",
            "Epoch 6/30\n",
            "11513/11513 [==============================] - 34s 3ms/step - loss: 0.2321 - accuracy: 0.9158 - val_loss: 0.2334 - val_accuracy: 0.9149\n",
            "Epoch 7/30\n",
            "11513/11513 [==============================] - 33s 3ms/step - loss: 0.2319 - accuracy: 0.9158 - val_loss: 0.2321 - val_accuracy: 0.9158\n",
            "Epoch 8/30\n",
            "11513/11513 [==============================] - 35s 3ms/step - loss: 0.2311 - accuracy: 0.9155 - val_loss: 0.2355 - val_accuracy: 0.9152\n",
            "Epoch 9/30\n",
            "11513/11513 [==============================] - 34s 3ms/step - loss: 0.2307 - accuracy: 0.9156 - val_loss: 0.2320 - val_accuracy: 0.9151\n",
            "Epoch 10/30\n",
            "11513/11513 [==============================] - 34s 3ms/step - loss: 0.2304 - accuracy: 0.9157 - val_loss: 0.2315 - val_accuracy: 0.9151\n",
            "Epoch 11/30\n",
            "11513/11513 [==============================] - 33s 3ms/step - loss: 0.2302 - accuracy: 0.9159 - val_loss: 0.2318 - val_accuracy: 0.9152\n",
            "Epoch 12/30\n",
            "11513/11513 [==============================] - 33s 3ms/step - loss: 0.2300 - accuracy: 0.9159 - val_loss: 0.2320 - val_accuracy: 0.9153\n",
            "Epoch 13/30\n",
            "11513/11513 [==============================] - 33s 3ms/step - loss: 0.2296 - accuracy: 0.9158 - val_loss: 0.2360 - val_accuracy: 0.9141\n",
            "Epoch 14/30\n",
            "11513/11513 [==============================] - 34s 3ms/step - loss: 0.2304 - accuracy: 0.9157 - val_loss: 0.2316 - val_accuracy: 0.9154\n",
            "Epoch 15/30\n",
            "11513/11513 [==============================] - 33s 3ms/step - loss: 0.2309 - accuracy: 0.9156 - val_loss: 0.2321 - val_accuracy: 0.9154\n",
            "Epoch 16/30\n",
            "11513/11513 [==============================] - 33s 3ms/step - loss: 0.2308 - accuracy: 0.9158 - val_loss: 0.2396 - val_accuracy: 0.9148\n",
            "Epoch 17/30\n",
            "11513/11513 [==============================] - 34s 3ms/step - loss: 0.2305 - accuracy: 0.9158 - val_loss: 0.2314 - val_accuracy: 0.9158\n",
            "Epoch 18/30\n",
            "11513/11513 [==============================] - 33s 3ms/step - loss: 0.2307 - accuracy: 0.9157 - val_loss: 0.2318 - val_accuracy: 0.9153\n",
            "Epoch 19/30\n",
            "11513/11513 [==============================] - 33s 3ms/step - loss: 0.2304 - accuracy: 0.9158 - val_loss: 0.2354 - val_accuracy: 0.9148\n",
            "Epoch 20/30\n",
            "11513/11513 [==============================] - 34s 3ms/step - loss: 0.2305 - accuracy: 0.9157 - val_loss: 0.2317 - val_accuracy: 0.9158\n",
            "Epoch 21/30\n",
            "11513/11513 [==============================] - 33s 3ms/step - loss: 0.2304 - accuracy: 0.9157 - val_loss: 0.2336 - val_accuracy: 0.9153\n",
            "Epoch 22/30\n",
            "11513/11513 [==============================] - 33s 3ms/step - loss: 0.2302 - accuracy: 0.9157 - val_loss: 0.2311 - val_accuracy: 0.9161\n",
            "Epoch 23/30\n",
            "11513/11513 [==============================] - 34s 3ms/step - loss: 0.2303 - accuracy: 0.9159 - val_loss: 0.2311 - val_accuracy: 0.9156\n",
            "Epoch 24/30\n",
            "11513/11513 [==============================] - 34s 3ms/step - loss: 0.2301 - accuracy: 0.9157 - val_loss: 0.2322 - val_accuracy: 0.9155\n",
            "Epoch 25/30\n",
            "11513/11513 [==============================] - 33s 3ms/step - loss: 0.2303 - accuracy: 0.9158 - val_loss: 0.2325 - val_accuracy: 0.9154\n",
            "Epoch 26/30\n",
            "11513/11513 [==============================] - 34s 3ms/step - loss: 0.2300 - accuracy: 0.9157 - val_loss: 0.2337 - val_accuracy: 0.9159\n",
            "Epoch 27/30\n",
            "11513/11513 [==============================] - 34s 3ms/step - loss: 0.2299 - accuracy: 0.9159 - val_loss: 0.2328 - val_accuracy: 0.9159\n",
            "Epoch 28/30\n",
            "11513/11513 [==============================] - 33s 3ms/step - loss: 0.2300 - accuracy: 0.9160 - val_loss: 0.2314 - val_accuracy: 0.9154\n",
            "Epoch 29/30\n",
            "11513/11513 [==============================] - 34s 3ms/step - loss: 0.2299 - accuracy: 0.9158 - val_loss: 0.2331 - val_accuracy: 0.9151\n",
            "Epoch 30/30\n",
            "11513/11513 [==============================] - 34s 3ms/step - loss: 0.2300 - accuracy: 0.9157 - val_loss: 0.2339 - val_accuracy: 0.9150\n"
          ]
        }
      ]
    },
    {
      "cell_type": "markdown",
      "source": [
        "### **Evaluate the model**"
      ],
      "metadata": {
        "id": "M591TuHFyKNd"
      },
      "id": "M591TuHFyKNd"
    },
    {
      "cell_type": "code",
      "source": [
        "ann_predict = model.predict(x_test)"
      ],
      "metadata": {
        "colab": {
          "base_uri": "https://localhost:8080/"
        },
        "id": "f4OpouyZo43S",
        "outputId": "e4980f88-06ec-45d7-bbe9-6be3a28310fd"
      },
      "id": "f4OpouyZo43S",
      "execution_count": null,
      "outputs": [
        {
          "output_type": "stream",
          "name": "stdout",
          "text": [
            "1999/1999 [==============================] - 3s 1ms/step\n"
          ]
        }
      ]
    },
    {
      "cell_type": "code",
      "source": [
        "yt_labels = to_categorical(y_test)\n",
        "loss, acc = model.evaluate(x_test, yt_labels, verbose=0)\n",
        "print('Test Accuracy: ', acc * 100)"
      ],
      "metadata": {
        "colab": {
          "base_uri": "https://localhost:8080/"
        },
        "id": "-yom9KWwo5F6",
        "outputId": "2c1fb988-e8e0-44a8-fdd2-c647bf2fbe40"
      },
      "id": "-yom9KWwo5F6",
      "execution_count": null,
      "outputs": [
        {
          "output_type": "stream",
          "name": "stdout",
          "text": [
            "Test Accuracy:  91.35540127754211\n"
          ]
        }
      ]
    },
    {
      "cell_type": "markdown",
      "id": "b5136ef1",
      "metadata": {
        "id": "b5136ef1"
      },
      "source": [
        "### **Machine learning model**"
      ]
    },
    {
      "cell_type": "code",
      "execution_count": null,
      "id": "d433c39f",
      "metadata": {
        "id": "d433c39f"
      },
      "outputs": [],
      "source": [
        "model = RandomForestClassifier(max_features='sqrt')\n",
        "forest = model.fit(x_train, y_train)"
      ]
    },
    {
      "cell_type": "markdown",
      "source": [
        "### **Model Evaluation and Results**"
      ],
      "metadata": {
        "id": "jA5qz-nV1tRS"
      },
      "id": "jA5qz-nV1tRS"
    },
    {
      "cell_type": "code",
      "execution_count": null,
      "id": "89f2925d",
      "metadata": {
        "id": "89f2925d"
      },
      "outputs": [],
      "source": [
        "forest_predict = forest.predict(x_test)"
      ]
    },
    {
      "cell_type": "code",
      "source": [
        "acc_m = accuracy_score(y_test, forest_predict)\n",
        "print('\\nAccuracy of model\\n\\n-->', acc_m * 100,'%')"
      ],
      "metadata": {
        "colab": {
          "base_uri": "https://localhost:8080/"
        },
        "id": "SRibeGXNu7y-",
        "outputId": "40ad4b6b-c3f8-416c-8143-7125e71a14a9"
      },
      "id": "SRibeGXNu7y-",
      "execution_count": null,
      "outputs": [
        {
          "output_type": "stream",
          "name": "stdout",
          "text": [
            "\n",
            "Accuracy of model\n",
            "\n",
            "--> 90.43918760455917 %\n"
          ]
        }
      ]
    },
    {
      "cell_type": "code",
      "source": [
        "cm = confusion_matrix(y_test, forest_predict)\n",
        "print('\\nConfusion-Matrix:\\n',cm)\n",
        "print('\\n\\nTotal records given:',len(x_test))\n",
        "actual_dp = cm[0][0] + cm[0][1]\n",
        "actual_hp = cm[1][0] + cm[1][1]\n",
        "tp = cm[0][0]\n",
        "tn =  cm[1][0]\n",
        "print('\\nActual diseased person:',actual_dp)\n",
        "print('True predictions of diseased persons:',tp)\n",
        "print('False predictions of diseased persons:',cm[0][1])\n",
        "print('Accuracy:',round(tp/actual_dp * 100,2), '%')\n",
        "print('\\nActual Healthy persons:',actual_hp)\n",
        "print('True predictions of Healthy persons:',tn)\n",
        "print('False predictions of Healthy persons:',cm[1][1])\n",
        "print('Accuracy:',round(tn/actual_hp * 100,2), '%')\n",
        "print('\\n\\n')\n",
        "plt.figure(figsize=(7,5))\n",
        "sns.heatmap(confusion_matrix(y_test, forest_predict),annot=True, fmt='g',cmap='viridis')\n",
        "plt.tight_layout()\n",
        "plt.show()"
      ],
      "metadata": {
        "colab": {
          "base_uri": "https://localhost:8080/",
          "height": 730
        },
        "id": "qJXNGnZavCCp",
        "outputId": "001f7c8d-9ee5-4b08-b9e1-d606ad62ec65"
      },
      "id": "qJXNGnZavCCp",
      "execution_count": null,
      "outputs": [
        {
          "output_type": "stream",
          "name": "stdout",
          "text": [
            "\n",
            "Confusion-Matrix:\n",
            " [[57177  1190]\n",
            " [ 4925   667]]\n",
            "\n",
            "\n",
            "Total records given: 63959\n",
            "\n",
            "Actual diseased person: 58367\n",
            "True predictions of diseased persons: 57177\n",
            "False predictions of diseased persons: 1190\n",
            "Accuracy: 97.96 %\n",
            "\n",
            "Actual Healthy persons: 5592\n",
            "True predictions of Healthy persons: 4925\n",
            "False predictions of Healthy persons: 667\n",
            "Accuracy: 88.07 %\n",
            "\n",
            "\n",
            "\n"
          ]
        },
        {
          "output_type": "display_data",
          "data": {
            "text/plain": [
              "<Figure size 504x360 with 2 Axes>"
            ],
            "image/png": "[encoded data removed]"
          },
          "metadata": {}
        }
      ]
    },
    {
      "cell_type": "code",
      "source": [
        "models_acc = [acc_m, acc]\n",
        "models_names = ['RandomForest', 'Neural Network']\n",
        "plt.figure(figsize=(5,5))\n",
        "plt.bar(models_names,models_acc)\n",
        "plt.title(\"Models Accuracy Comparison\", fontsize=20)\n",
        "\n",
        "def addLabels(names,acc):\n",
        "    for i in range(len(names)):\n",
        "        plt.text(i,round(models_acc[i],2),f\"{round(models_acc[i],2) * 100}%\", ha = 'center', bbox=dict(facecolor='yellow', alpha=0.9))\n",
        "\n",
        "addLabels(models_names,models_acc)\n",
        "plt.show()"
      ],
      "metadata": {
        "colab": {
          "base_uri": "https://localhost:8080/",
          "height": 343
        },
        "id": "Zj7ae9BtzqJp",
        "outputId": "193a6e4c-89b1-4800-810f-208e56d4e6d3"
      },
      "id": "Zj7ae9BtzqJp",
      "execution_count": null,
      "outputs": [
        {
          "output_type": "display_data",
          "data": {
            "text/plain": [
              "<Figure size 360x360 with 1 Axes>"
            ],
            "image/png": "[encoded data removed]"
          },
          "metadata": {}
        }
      ]
    },
    {
      "cell_type": "code",
      "source": [],
      "metadata": {
        "id": "jKyfq82T0xBa"
      },
      "id": "jKyfq82T0xBa",
      "execution_count": null,
      "outputs": []
    }
  ],
  "metadata": {
    "kernelspec": {
      "display_name": "Python 3 (ipykernel)",
      "language": "python",
      "name": "python3"
    },
    "language_info": {
      "codemirror_mode": {
        "name": "ipython",
        "version": 3
      },
      "file_extension": ".py",
      "mimetype": "text/x-python",
      "name": "python",
      "nbconvert_exporter": "python",
      "pygments_lexer": "ipython3",
      "version": "3.9.7"
    },
    "colab": {
      "provenance": []
    },
    "accelerator": "GPU",
    "gpuClass": "standard"
  },
  "nbformat": 4,
  "nbformat_minor": 5
}